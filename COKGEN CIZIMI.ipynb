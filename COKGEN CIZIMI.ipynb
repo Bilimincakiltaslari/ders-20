{
 "cells": [
  {
   "cell_type": "code",
   "execution_count": null,
   "metadata": {},
   "outputs": [],
   "source": [
    "# Altıgen çizim programı\n",
    "from turtle import * # Kütüphaneden grafik çizebilmek için turtle alıyoruz.\n",
    "import turtle \n",
    "turtle.speed(1)   # Burada kalemin hızını belirliyoruz 1 ile 10 arasında 0 verirsek en hızlı\n",
    "turtle.color(\"yellow\",\"green\") # Birinci renk kalemin ikinci renk dolgunun rengi olacak.\n",
    "penup()  # kalemi yukarı kaldırdık giderken çizim yapmaması için\n",
    "goto(-150,-150) # ekranın sol alt bölgesine kalemi yerleştirdik. (0,0) ekranın ortasıdır.\n",
    "turtle.width(4) # kalemin kalınlığını belirledik.\n",
    "turtle.begin_fill() # Dolgu renginin başlıyacağı yer\n",
    "\n",
    "for i in range(0,6):\n",
    "    pendown()\n",
    "    forward(100)\n",
    "    left(60)\n",
    "turtle.end_fill() # Dolgu renginin biteceğ yer\n",
    "mainloop()"
   ]
  },
  {
   "cell_type": "code",
   "execution_count": null,
   "metadata": {},
   "outputs": [],
   "source": [
    "# Ongen çizim programı\n",
    "from turtle import *\n",
    "import turtle\n",
    "turtle.speed(1)\n",
    "turtle.color(\"blue\",\"yellow\")\n",
    "penup()\n",
    "goto(-150,-150)\n",
    "turtle.width(4)\n",
    "turtle.begin_fill()\n",
    "\n",
    "for i in range(0,10):\n",
    "    pendown()\n",
    "    forward(100)\n",
    "    left(36)\n",
    "turtle.end_fill()\n",
    "mainloop()"
   ]
  }
 ],
 "metadata": {
  "kernelspec": {
   "display_name": "Python 3",
   "language": "python",
   "name": "python3"
  },
  "language_info": {
   "codemirror_mode": {
    "name": "ipython",
    "version": 3
   },
   "file_extension": ".py",
   "mimetype": "text/x-python",
   "name": "python",
   "nbconvert_exporter": "python",
   "pygments_lexer": "ipython3",
   "version": "3.7.3"
  }
 },
 "nbformat": 4,
 "nbformat_minor": 2
}
